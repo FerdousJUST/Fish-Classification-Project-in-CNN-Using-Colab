{
  "nbformat": 4,
  "nbformat_minor": 0,
  "metadata": {
    "colab": {
      "provenance": [],
      "mount_file_id": "1VDRDw4h6x38SGO-4EFgFQu7SSITCaBEQ",
      "authorship_tag": "ABX9TyMYqg8gbtag/0DtbXY294wB",
      "include_colab_link": true
    },
    "kernelspec": {
      "name": "python3",
      "display_name": "Python 3"
    },
    "language_info": {
      "name": "python"
    }
  },
  "cells": [
    {
      "cell_type": "markdown",
      "metadata": {
        "id": "view-in-github",
        "colab_type": "text"
      },
      "source": [
        "<a href=\"https://colab.research.google.com/github/FerdousJUST/Fish-Classification-Project-in-CNN-Using-Colab/blob/main/Fish_Classification_Project.ipynb\" target=\"_parent\"><img src=\"https://colab.research.google.com/assets/colab-badge.svg\" alt=\"Open In Colab\"/></a>"
      ]
    },
    {
      "cell_type": "code",
      "execution_count": null,
      "metadata": {
        "id": "rTdrqUQg-3wI"
      },
      "outputs": [],
      "source": []
    },
    {
      "cell_type": "code",
      "source": [
        "from google.colab import drive\n",
        "drive.mount('/content/drive')"
      ],
      "metadata": {
        "id": "GCXxLyG3lKMO"
      },
      "execution_count": null,
      "outputs": []
    },
    {
      "cell_type": "code",
      "source": [
        "import os\n",
        "import numpy as np\n",
        "import pandas as pd\n",
        "import matplotlib.pyplot as plt\n",
        "import cv2\n",
        "import imageio\n",
        "import pathlib\n",
        "%matplotlib inline"
      ],
      "metadata": {
        "id": "uCiCOpbIlbZc"
      },
      "execution_count": 1,
      "outputs": []
    },
    {
      "cell_type": "code",
      "source": [
        "import tensorflow as tf\n",
        "tf.test.gpu_device_name()"
      ],
      "metadata": {
        "colab": {
          "base_uri": "https://localhost:8080/",
          "height": 35
        },
        "id": "JgwMXAOZlbVh",
        "outputId": "3ca0bc49-d374-475a-dcad-4be55312040b"
      },
      "execution_count": 2,
      "outputs": [
        {
          "output_type": "execute_result",
          "data": {
            "text/plain": [
              "''"
            ],
            "application/vnd.google.colaboratory.intrinsic+json": {
              "type": "string"
            }
          },
          "metadata": {},
          "execution_count": 2
        }
      ]
    },
    {
      "cell_type": "code",
      "source": [
        "from keras.preprocessing.image import ImageDataGenerator\n",
        "rescaled = ImageDataGenerator(1/255)\n",
        "train_fed = rescaled.flow_from_directory('/content/drive/Shareddrives/Research Collaboration/Image_Classification_Dataset/Training',target_size=(128,128),batch_size=32,class_mode= 'categorical')\n",
        "test_fed = rescaled.flow_from_directory('/content/drive/Shareddrives/Research Collaboration/Image_Classification_Dataset/Validation',target_size=(128,128),batch_size=32,class_mode= 'categorical')"
      ],
      "metadata": {
        "colab": {
          "base_uri": "https://localhost:8080/"
        },
        "id": "Ii3rx_2zlbRn",
        "outputId": "a2e2a42e-a67e-4d89-f84d-5d0b6df148e4"
      },
      "execution_count": 4,
      "outputs": [
        {
          "output_type": "stream",
          "name": "stdout",
          "text": [
            "Found 4800 images belonging to 4 classes.\n",
            "Found 1200 images belonging to 4 classes.\n"
          ]
        }
      ]
    },
    {
      "cell_type": "code",
      "source": [
        "from tensorflow.keras.layers import Input,Flatten,Dense\n",
        "from tensorflow.keras.models import Model\n",
        "from tensorflow.keras.models import Sequential"
      ],
      "metadata": {
        "id": "Cp-DtQZNlbNT"
      },
      "execution_count": 5,
      "outputs": []
    },
    {
      "cell_type": "code",
      "source": [
        "model = tf.keras.models.Sequential([tf.keras.layers.Conv2D(16,kernel_size=(3,3),activation = 'relu',input_shape = (128,128,3)),\n",
        "                                    tf.keras.layers.MaxPool2D(2,2),\n",
        "                                    \n",
        "                                    tf.keras.layers.Conv2D(32,kernel_size=(3,3),activation = 'relu'),\n",
        "                                    tf.keras.layers.MaxPool2D(2,2),\n",
        "\n",
        "                                    tf.keras.layers.Conv2D(64,kernel_size=(3,3),activation = 'relu'),\n",
        "                                    tf.keras.layers.MaxPool2D(2,2),\n",
        "\n",
        "                                    tf.keras.layers.Conv2D(128,kernel_size=(3,3),activation = 'relu'),\n",
        "                                    tf.keras.layers.MaxPool2D(2,2),\n",
        "\n",
        "                                    tf.keras.layers.Flatten(),\n",
        "\n",
        "                                    tf.keras.layers.Dense(128,activation = 'relu'),\n",
        "                                    tf.keras.layers.Dropout(0.5),\n",
        "                                    tf.keras.layers.Dense(4,activation = 'softmax')\n",
        "                                    ])"
      ],
      "metadata": {
        "id": "GUf1n7Hjla71"
      },
      "execution_count": 6,
      "outputs": []
    },
    {
      "cell_type": "code",
      "source": [
        "model.summary()"
      ],
      "metadata": {
        "colab": {
          "base_uri": "https://localhost:8080/"
        },
        "id": "kB_YO8QLlajV",
        "outputId": "5f5e6a21-64dd-4a99-ef2c-ede07b4dfb40"
      },
      "execution_count": 7,
      "outputs": [
        {
          "output_type": "stream",
          "name": "stdout",
          "text": [
            "Model: \"sequential\"\n",
            "_________________________________________________________________\n",
            " Layer (type)                Output Shape              Param #   \n",
            "=================================================================\n",
            " conv2d (Conv2D)             (None, 126, 126, 16)      448       \n",
            "                                                                 \n",
            " max_pooling2d (MaxPooling2D  (None, 63, 63, 16)       0         \n",
            " )                                                               \n",
            "                                                                 \n",
            " conv2d_1 (Conv2D)           (None, 61, 61, 32)        4640      \n",
            "                                                                 \n",
            " max_pooling2d_1 (MaxPooling  (None, 30, 30, 32)       0         \n",
            " 2D)                                                             \n",
            "                                                                 \n",
            " conv2d_2 (Conv2D)           (None, 28, 28, 64)        18496     \n",
            "                                                                 \n",
            " max_pooling2d_2 (MaxPooling  (None, 14, 14, 64)       0         \n",
            " 2D)                                                             \n",
            "                                                                 \n",
            " conv2d_3 (Conv2D)           (None, 12, 12, 128)       73856     \n",
            "                                                                 \n",
            " max_pooling2d_3 (MaxPooling  (None, 6, 6, 128)        0         \n",
            " 2D)                                                             \n",
            "                                                                 \n",
            " flatten (Flatten)           (None, 4608)              0         \n",
            "                                                                 \n",
            " dense (Dense)               (None, 128)               589952    \n",
            "                                                                 \n",
            " dropout (Dropout)           (None, 128)               0         \n",
            "                                                                 \n",
            " dense_1 (Dense)             (None, 4)                 516       \n",
            "                                                                 \n",
            "=================================================================\n",
            "Total params: 687,908\n",
            "Trainable params: 687,908\n",
            "Non-trainable params: 0\n",
            "_________________________________________________________________\n"
          ]
        }
      ]
    },
    {
      "cell_type": "code",
      "source": [
        "from tensorflow.keras.optimizers import Adam\n",
        "model.compile(loss = 'categorical_crossentropy',optimizer = 'Adam',metrics = ['accuracy'])"
      ],
      "metadata": {
        "id": "EAtakdhXnWVB"
      },
      "execution_count": 8,
      "outputs": []
    },
    {
      "cell_type": "code",
      "source": [
        "from keras.callbacks import EarlyStopping,ModelCheckpoint,ReduceLROnPlateau\n",
        "import h5py"
      ],
      "metadata": {
        "id": "FQIm9nXsnWNX"
      },
      "execution_count": 9,
      "outputs": []
    },
    {
      "cell_type": "code",
      "source": [
        "erl_stop = EarlyStopping(monitor = 'val_loss',patience = 3,restore_best_weights=True)\n",
        "mod_chk = ModelCheckpoint(filepath='/content/drive/Shareddrives/Research Collaboration/Ferdous MSc Project/my_model.hdf5',monitor = 'val_loss',save_best_only = True)\n",
        "lr_rate = ReduceLROnPlateau(monitor = 'val_loss',patience = 2,factor = 0.1)"
      ],
      "metadata": {
        "id": "-8atkoLbnWHF"
      },
      "execution_count": 10,
      "outputs": []
    },
    {
      "cell_type": "code",
      "source": [
        "hist = model.fit_generator(train_fed, shuffle = True, epochs=5, validation_data=test_fed,\n",
        "                           callbacks = [erl_stop,mod_chk,lr_rate],verbose = 2\n",
        "                           )"
      ],
      "metadata": {
        "colab": {
          "base_uri": "https://localhost:8080/"
        },
        "id": "t8qGoKd3nV6D",
        "outputId": "738b1c4c-28d5-4975-9ffe-47281416be02"
      },
      "execution_count": 11,
      "outputs": [
        {
          "output_type": "stream",
          "name": "stderr",
          "text": [
            "<ipython-input-11-fc06ed9bd5b3>:1: UserWarning: `Model.fit_generator` is deprecated and will be removed in a future version. Please use `Model.fit`, which supports generators.\n",
            "  hist = model.fit_generator(train_fed, shuffle = True, epochs=5, validation_data=test_fed,\n",
            "/usr/local/lib/python3.8/dist-packages/keras/preprocessing/image.py:1663: UserWarning: This ImageDataGenerator specifies `featurewise_center`, but it hasn't been fit on any training data. Fit it first by calling `.fit(numpy_data)`.\n",
            "  warnings.warn('This ImageDataGenerator specifies '\n"
          ]
        },
        {
          "output_type": "stream",
          "name": "stdout",
          "text": [
            "Epoch 1/5\n",
            "150/150 - 2097s - loss: 2.0727 - accuracy: 0.4823 - val_loss: 0.7545 - val_accuracy: 0.7217 - lr: 0.0010 - 2097s/epoch - 14s/step\n",
            "Epoch 2/5\n",
            "150/150 - 118s - loss: 0.6675 - accuracy: 0.7177 - val_loss: 0.7725 - val_accuracy: 0.7142 - lr: 0.0010 - 118s/epoch - 787ms/step\n",
            "Epoch 3/5\n",
            "150/150 - 115s - loss: 0.4886 - accuracy: 0.8227 - val_loss: 0.4475 - val_accuracy: 0.8633 - lr: 0.0010 - 115s/epoch - 766ms/step\n",
            "Epoch 4/5\n",
            "150/150 - 119s - loss: 0.3484 - accuracy: 0.8777 - val_loss: 0.4003 - val_accuracy: 0.8475 - lr: 0.0010 - 119s/epoch - 795ms/step\n",
            "Epoch 5/5\n",
            "150/150 - 115s - loss: 0.2381 - accuracy: 0.9144 - val_loss: 0.2854 - val_accuracy: 0.8900 - lr: 0.0010 - 115s/epoch - 769ms/step\n"
          ]
        }
      ]
    },
    {
      "cell_type": "code",
      "source": [
        "plt.plot(hist.history['loss'],color = 'blue',label = 'train')\n",
        "plt.plot(hist.history['val_loss'],color = 'orange',label = 'train')\n",
        "plt.grid(True)\n",
        "plt.title(\"Train & Test loss with epochs\\n\",fontsize = 16)\n",
        "plt.xlabel(\"Training Epochs\",fontsize= 12)\n",
        "plt.ylabel(\"Train & Test loss\",fontsize =12)\n",
        "plt.show()"
      ],
      "metadata": {
        "colab": {
          "base_uri": "https://localhost:8080/",
          "height": 318
        },
        "id": "Sp7XMj5inVmd",
        "outputId": "78af85e9-3a1b-471b-9cc8-273584efd798"
      },
      "execution_count": 12,
      "outputs": [
        {
          "output_type": "display_data",
          "data": {
            "text/plain": [
              "<Figure size 432x288 with 1 Axes>"
            ],
            "image/png": "[encoded data removed]"
          },
          "metadata": {
            "needs_background": "light"
          }
        }
      ]
    },
    {
      "cell_type": "code",
      "source": [
        "plt.plot(hist.history['accuracy'],color = 'blue',label = 'train')\n",
        "plt.plot(hist.history['val_accuracy'],color = 'orange',label = 'train')\n",
        "plt.grid(True)\n",
        "plt.title(\"Train & Test accuracy with epochs\\n\",fontsize = 16)\n",
        "plt.xlabel(\"Training Epochs\",fontsize= 12)\n",
        "plt.ylabel(\"Train & Test accuracy\",fontsize =12)\n",
        "plt.show()"
      ],
      "metadata": {
        "colab": {
          "base_uri": "https://localhost:8080/",
          "height": 318
        },
        "id": "-8deWrHP0foZ",
        "outputId": "dad56db9-dceb-4db4-81a6-5d8d7912a000"
      },
      "execution_count": 13,
      "outputs": [
        {
          "output_type": "display_data",
          "data": {
            "text/plain": [
              "<Figure size 432x288 with 1 Axes>"
            ],
            "image/png": "[encoded data removed]"
          },
          "metadata": {
            "needs_background": "light"
          }
        }
      ]
    },
    {
      "cell_type": "code",
      "source": [
        "acc = model.evaluate(test_fed,steps = len(test_fed),verbose = 2)\n",
        "print('%.2f'%(acc[1]*100))"
      ],
      "metadata": {
        "colab": {
          "base_uri": "https://localhost:8080/"
        },
        "id": "qYA5JUMi0qsz",
        "outputId": "1390df6c-6bd0-4392-8934-c0d41cf5c2c2"
      },
      "execution_count": 14,
      "outputs": [
        {
          "output_type": "stream",
          "name": "stdout",
          "text": [
            "38/38 - 15s - loss: 0.2854 - accuracy: 0.8900 - 15s/epoch - 392ms/step\n",
            "89.00\n"
          ]
        }
      ]
    }
  ]
}